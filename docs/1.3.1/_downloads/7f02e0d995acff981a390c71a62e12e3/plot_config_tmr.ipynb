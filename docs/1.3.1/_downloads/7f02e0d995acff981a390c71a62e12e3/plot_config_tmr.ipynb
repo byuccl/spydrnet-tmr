{
  "cells": [
    {
      "cell_type": "code",
      "execution_count": null,
      "metadata": {
        "collapsed": false
      },
      "outputs": [],
      "source": [
        "%matplotlib inline"
      ]
    },
    {
      "cell_type": "markdown",
      "metadata": {},
      "source": [
        "\n# YAML Configuration Mode for Triplication\n\nIn order to ease the use of SpyDrNet-TMR and allow for complex replication/voter\ninsertion, support for YAML configurations has been implemented. A configuration\nfile for SpyDrNet-TMR is organized as the following:\n\n```yaml\n# Replication options for both instances and top-level ports\nreplication:\n    instances_to_replicate:\n        <instance_option>\n    ports_to_replicate:\n        <port_option>\n\nvoter_insertion:\n    <voter_algorithm_name>:\n        instances_at_valid_points:\n            <instance_option>\n        ports_at_valid_points:\n            <port_option>\n```\nInstance options include the following:\n    - `all`: include all instances\n    - `none`: exclude all instances\n    - `exclude_prim: [\"<primitve_name>\"]`: include all instances except for ones of primtive types listed\n    - `exclude_hinst: [\"<hinst_name>\"]`: include all instances except for the hierachircal instance names given\n\nPort options include the following:\n    - `all`: include all top-level ports\n    - `none`: exclude all top-level ports\n    - `top_level_input_ports`: only include all top-level input ports\n    - `top_level_output_ports`: only include all top-level output ports\n    - `top_level_inoutput_ports`: only include all top-level in/output ports\n    - `exclude_ports: [\"<port_name>\"]`: include all top-level ports except for the port names given\n\nVoter insertion algorithm names come from the module/function names found in\nthe `spydrnet_tmr/analysis/voter_insertion/` directory. The algorithm name is\nmatched with the modules/functions in that directory in the following manner:\n`find_<voter_algorithm_name>_points.py`. The given algorithm name in a\nconfiguration file must excatly match an algorithm from the algorithms in the\nmentioned drectory.\n\n    - Example:\n        - `<voter_algorithm_name>` for `find_after_ff_voter_points.py` would be `after_ff`\n        - `<voter_algorithm_name>` for `find_after_ff_voter_points.py` would be `after_ff`\n"
      ]
    },
    {
      "cell_type": "code",
      "execution_count": null,
      "metadata": {
        "collapsed": false
      },
      "outputs": [],
      "source": [
        "import yaml\nfrom yaml.loader import FullLoader\n\n\nfrom spydrnet_tmr import load_example_netlist_by_name\nfrom spydrnet_tmr.process_config import process_config\nfrom spydrnet_tmr.apply_tmr_to_netlist import apply_tmr_to_netlist\nfrom spydrnet_tmr.support_files.vendor_names import XILINX\nfrom spydrnet import compose\n\nYAML_CONFIG1 = \"\"\"\n################ TMR Config Example 1 ################\nreplication:\n  # All leaf instances will be replicated within the design.\n  instances_to_replicate:\n    all  \n  # Only the top-level input ports will be replicated, which leaves any output\n  # ports or inoutput ports not replicated.\n  ports_to_replicate:\n    top_level_input_ports\n\n# Here in the voter_insertion section, we have two algorithms that will be\n# applied to the netlist. \n#\n# First, place a voter before every flip-flop in the design denoted by the \n# name \"before_ff\" which comes from the function/module name in the \n# 'spydrnet_tmr/analysis/voter_insertion/' directory. This needs to match exact!\n\n# Second, place reduction voters for replicated to non-replicated TMR boundaries\n# again denoted by the name \"reduction\" which comes from the corresponding\n# function/module name. \n#\n# For both of these algorithms, all points will be considered for voter \n# insertion, but that does not mean a voter will be placed at every point.\n# For example, the \"before_ff\" algorithm will consider LUTs for voter insertion,\n# but will ultimately decide not to place a voter before it because it isn't a\n# flip-flop. If you don't want a voter at a certain instance/port, use \n# 'exclude_prim', 'exclude_ports', or 'exclude_hinst'.\nvoter_insertion:\n  before_ff:\n    instances_at_valid_points:\n      all\n    ports_at_valid_points:\n      all\n  reduction:\n    instances_at_valid_points:\n      all\n    ports_at_valid_points:\n      all\n\n\"\"\"\n\nYAML_CONFIG2 = \"\"\"\n################ TMR Config Example 2 ################\nreplication:\n  # Here is an example of excluding an instance within the design. The \n  # hierarchical name is required.\n  instances_to_replicate:\n    exclude_hinst: [\"PURPOSEFUL_GENERATE[8].SEQUENTIAL_LOGIC/DQ_reg[1]\"]\n  ports_to_replicate:\n    all\nvoter_insertion:\n  reduction:\n    # Here is an example of excluding all instances of a primitive type for\n    # voter insertion. In this case, we want to do this because the flip-flop\n    # that is excluded from replication will receive a clock signal from the\n    # global clock buffer, and we don't want to place a voter in its path, so\n    # we'll exclude all BUFGs from the reduction voter insertion algorithm.\n    instances_at_valid_points:\n      exclude_prim: [\"BUFG\"]\n    ports_at_valid_points:\n      all\n\"\"\"\n\n\ndef run():\n    netlist_config_pairs = {\n        \"two_bit_counter_top\": YAML_CONFIG1,\n        \"registered_inverter\": YAML_CONFIG2,\n    }\n\n    for netlist_name, config_filename in netlist_config_pairs.items():\n        process_config_and_apply_tmr(netlist_name, config_filename)\n\n\ndef process_config_and_apply_tmr(netlist_name, config_str):\n    \"\"\"\n    Process YAML configuration file and apply TMR to netlist.\n\n    Use the 'process_config' and 'apply_tmr_to_netlist' functions for an existing\n    example netlist and an existing config file.\n    \"\"\"\n\n    example_netlist_name = netlist_name\n    netlist = load_example_netlist_by_name(example_netlist_name)\n\n    tmr_config = yaml.load(config_str, Loader=FullLoader)\n    (\n        hinstances_and_hports_to_replicate,\n        valid_voter_point_dict,\n    ) = process_config(netlist, tmr_config)\n\n    netlist = apply_tmr_to_netlist(\n        netlist,\n        XILINX,\n        hinstances_and_hports_to_replicate,\n        valid_voter_point_dict,\n    )\n\n    compose(netlist, netlist_name + \"_tmr.edf\")\n\n\nrun()"
      ]
    }
  ],
  "metadata": {
    "kernelspec": {
      "display_name": "Python 3",
      "language": "python",
      "name": "python3"
    },
    "language_info": {
      "codemirror_mode": {
        "name": "ipython",
        "version": 3
      },
      "file_extension": ".py",
      "mimetype": "text/x-python",
      "name": "python",
      "nbconvert_exporter": "python",
      "pygments_lexer": "ipython3",
      "version": "3.9.16"
    }
  },
  "nbformat": 4,
  "nbformat_minor": 0
}