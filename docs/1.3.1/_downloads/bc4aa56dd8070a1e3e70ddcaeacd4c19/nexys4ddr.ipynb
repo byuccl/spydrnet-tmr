{
  "cells": [
    {
      "cell_type": "code",
      "execution_count": null,
      "metadata": {
        "collapsed": false
      },
      "outputs": [],
      "source": [
        "%matplotlib inline"
      ]
    },
    {
      "cell_type": "markdown",
      "metadata": {},
      "source": [
        "\n# nexys4ddr\n\nThe following is a script that was used to triplicate and insert voters into the SpyDrNet SHREC example netlist 'nexys4ddr'. This netlist is a RISC-V processor running on the Nexys4 DDR board. Due to the size of the design, the script takes about 30 minutes to run.\n\n.. rst-class:: sphx-glr-script-out\n \n Out:\n\n```none\n43657 instances in netlist\nOBUF : 63\nLUT3 : 4787\nFDRE : 17642\nRAM32M : 187\nLUT2 : 1889\nCARRY4 : 949\nLUT6 : 7833\nLUT1 : 609\nLUT4 : 3929\nLUT5 : 4710\nRAMB18E1 : 42\nRAMB36E1 : 48\nFDSE : 373\nMUXF7 : 261\nIBUF : 7\nSRL16E : 4\nIOBUF : 22\nBUFG : 7\nVCC : 77\nGND : 74\nRAM32X1D : 1\nDSP48E1 : 16\nRAM64X1D : 4\nFDPE : 10\nMUXF8 : 2\nOSERDESE2 : 43\nODDR : 26\nOBUFDS : 1\nMMCME2_ADV : 1\nISERDESE2 : 16\nIOBUFDS : 2\nIDELAYE2 : 16\nIDELAYCTRL : 1\nIDDR : 5\n43497 instances of 43657 replicated (99.634%)\nIdentified 7540 insertion points for feedback voters.\nIdentified 282 insertion points for reduction voters.\n```\n"
      ]
    },
    {
      "cell_type": "code",
      "execution_count": null,
      "metadata": {
        "collapsed": false
      },
      "outputs": [],
      "source": [
        "import spydrnet as sdn\nfrom spydrnet.uniquify import uniquify\nfrom spydrnet_tmr import insert_organs, apply_nmr\nfrom spydrnet_tmr.transformation.replication.organ import XilinxTMRVoter\nimport spydrnet_tmr as sdn_tmr\nfrom spydrnet_tmr.analysis.voter_insertion.find_voter_insertion_points import find_voter_insertion_points\n\n\n# Parse original netlist (it was added to the spydrnet_shrec example netlists)\nnetlist = sdn_tmr.load_example_netlist_by_name('nexys4ddr')\n\n# You need to uniquify the netlist so we can make changes on individual instances\nuniquify(netlist)\n\n# Save the uniquified netlist\nnetlist.compose('nexys4ddr_u.edf')\n\n# Generate a list of all leaf hierarical instances (returns a generator but is then caste as a list)\nhinstances = list(netlist.get_hinstances(recursive=True, filter=lambda x: x.item.reference.is_leaf() is True))\nprint(len(hinstances),\"instances in netlist\")\n\n# Generate a map between instance type and a list of instances\nitypes = {}\n# Iterate over all instances\nfor hi in hinstances:\n    # get the intance of the hierarchical instance\n    inst = hi.item\n    # Get the type of the instance\n    itype = inst.reference.name\n    if itype not in itypes:\n        itypes[itype] = []\n    ilist = itypes[itype]\n    ilist.append(hi)\n\n# Print definitions and how many times each is instanced\nfor itype in itypes.keys():\n    num_types = len(itypes[itype])\n    print(itype,\":\",num_types)\n\n# Types to ignore for replication\nignore_types = [ \"OBUF\", \"IBUF\", \"IOBUF\", \"OSERDESE2\", \"MMCME2_ADV\", \"ISERDESE2\", \"IOBUFDS\", \"IODELAYE2\", \"IDELAYCTRL\", \"IDDR\" ]\n\n# Create list of instances to replicate\nhinstances_to_replicate = list(x for x in hinstances if x.item.reference.name not in ignore_types)\nprint(str.format(\"{} instances of {} replicated ({:.3f}%)\",len(hinstances_to_replicate),len(hinstances),100*len(hinstances_to_replicate)/len(hinstances)))\n\n# Don't replicate any ports\n#hports_to_replicate = list(netlist.get_hports())\n\n# Determine voter insertion points\nFFs_for_feedback = {'FDRE', 'FDSE', 'FDPE', 'FDCE'}\ninsertion_points = find_voter_insertion_points(netlist,hinstances_to_replicate,FFs_for_feedback)\n\n#Get instances from hierarchical instances\ninstances_to_replicate = list(x.item for x in hinstances_to_replicate)\n\n# Triplicate\nreplicas = apply_nmr(instances_to_replicate, 3, name_suffix='TMR', rename_original=True)\n\n# Insert voters\nvoters = insert_organs(replicas, insertion_points, XilinxTMRVoter(), name_suffix='VOTER')\n\n# Compose the modified netlist\nnetlist.compose('nexys4ddr_u_tmr.edf')"
      ]
    }
  ],
  "metadata": {
    "kernelspec": {
      "display_name": "Python 3",
      "language": "python",
      "name": "python3"
    },
    "language_info": {
      "codemirror_mode": {
        "name": "ipython",
        "version": 3
      },
      "file_extension": ".py",
      "mimetype": "text/x-python",
      "name": "python",
      "nbconvert_exporter": "python",
      "pygments_lexer": "ipython3",
      "version": "3.9.16"
    }
  },
  "nbformat": 4,
  "nbformat_minor": 0
}