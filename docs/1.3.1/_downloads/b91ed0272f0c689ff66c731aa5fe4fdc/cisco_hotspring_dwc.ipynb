{
  "cells": [
    {
      "cell_type": "code",
      "execution_count": null,
      "metadata": {
        "collapsed": false
      },
      "outputs": [],
      "source": [
        "%matplotlib inline"
      ]
    },
    {
      "cell_type": "markdown",
      "metadata": {},
      "source": [
        "\n# Cisco DWC Example\n    \n    This file provides an example of applying DWC to a larger, more complex design\n"
      ]
    },
    {
      "cell_type": "code",
      "execution_count": null,
      "metadata": {
        "collapsed": false
      },
      "outputs": [],
      "source": [
        "import spydrnet_tmr as sdn_tmr\nfrom spydrnet_tmr.analysis.adjacency_list import adjacency_list\nimport spydrnet as sdn\nimport networkx as nx\n\nclock_pins = {'FDRE': ['C'], 'RAM32M16': ['WCLK'], 'FDPE': ['C'], 'RAM64M8': ['WCLK'], 'FDSE': ['C'], 'FDCE': ['C'],\n              'RAMB36E2': ['CLKARDCLK', 'CLKBWRCLK'], 'RAMB18E2': ['CLKARDCLK', 'CLKBWRCLK'], 'SRL16E': ['CLK'],\n              'DSP48E2': ['CLK']}\n\npower_def = ['GND', 'VCC']\n\ndont_replicate_def_name = {'VCC', 'GND', 'emac_rx_fifocompare_7_HD1217', 'RAMB36E2', 'emac_rx_fifocompare_7_HD1089',\n                           'RAMB18E2', 'emac_rx_fifocompare_7_HD1153', 'emac_rx_fifocompare_7'}\ndont_replicate_inst_name = {'handoff_top_inst/handoff_blocks/mdio_top/cylon0_mdio_rx_top/mdio_rx/mdio_clk_Q1_reg',\n                            'handoff_top_inst/handoff_blocks/mdio_top/cylon0_mdio_rx_top/mdio_rx/mdio_clk_Q2_reg',\n                            'handoff_top_inst/handoff_blocks/mdio_top/cylon1_mdio_rx_top/mdio_rx/mdio_clk_Q1_reg',\n                            'handoff_top_inst/handoff_blocks/mdio_top/cylon1_mdio_rx_top/mdio_rx/mdio_clk_Q2_reg'}\n\nnetlist = None\nconnectivity_graph = None\nfeedback_hierarchy = None\n\nselection = None\n\n\ndef run():\n    global netlist\n    parse_netlist()\n    uniquify_netlist()\n    # parse_feedback_hierarchy()\n    create_connectivity_graph()\n    search_pattern = 'handoff_top_inst/handoff_blocks/.*'\n    handoff_blocks_hinsts = list(netlist.get_hinstances(search_pattern, recursive=True, is_re=True,\n                                                        filter=lambda x: x.item.reference.is_leaf() is True))\n    handoff_blocks_hinsts = set(x for x in handoff_blocks_hinsts if x.name not in dont_replicate_inst_name and\n                                x.item.reference.name not in dont_replicate_def_name)\n\n    driving_non_dwc_hinst = list(x for x in handoff_blocks_hinsts if\n                                 any(y not in handoff_blocks_hinsts for y in connectivity_graph.successors(x)))\n\n    driving_pins = list(sdn.get_hpins(driving_non_dwc_hinst, filter=lambda x: x.item.port.direction is sdn.OUT))\n    outer_driving_pins = list(sdn.get_pins(driving_pins, selection=\"OUTSIDE\"))\n\n    replicaMap = sdn_tmr.apply_nmr(list(x.item for x in handoff_blocks_hinsts), 2, 'DWC')\n\n    from spydrnet_tmr.transformation.replication.organ_insertion import insert_organs\n    from spydrnet_tmr.transformation.replication.organ import XilinxDWCDetector\n\n    detectorMap = insert_organs(replicaMap, outer_driving_pins, XilinxDWCDetector(), \"detectorGaget\")\n\n    detectorGroup0 = list(dd[0] for dd in detectorMap.values())\n    detectorGroup1 = list(dd[1] for dd in detectorMap.values())\n\n    detectorGroup0OutaPins = sdn.get_pins(detectorGroup0, selection=sdn.OUTSIDE)\n    detectorGroup0OutaPins = list(p for p in detectorGroup0OutaPins if p.inner_pin.port.direction is sdn.OUT)\n\n    detectorGroup1OutaPins = sdn.get_pins(detectorGroup1, selection=sdn.OUTSIDE)\n    detectorGroup1OutaPins = list(p for p in detectorGroup1OutaPins if p.inner_pin.port.direction is sdn.OUT)\n\n    from spydrnet_tmr.transformation.surface_pins import surface_pins\n\n    dwcWiremap0 = surface_pins(detectorGroup0OutaPins, \"DRail_0\")\n    dwcWiremap1 = surface_pins(detectorGroup1OutaPins, \"DRail_1\")\n\n    from spydrnet_tmr.transformation.reduction_network import create_reduction_network\n    from spydrnet_tmr.transformation.reduction_network import define_reg\n    from spydrnet_tmr.transformation.reduction_network import registerDWCWires, instance_JTAG_module\n\n    regDef = define_reg(netlist)\n\n    dwcWiremap0 = registerDWCWires(netlist, dwcWiremap0, regDef, \"Reg_Q_0\")\n    dwcWiremap1 = registerDWCWires(netlist, dwcWiremap1, regDef, \"Reg_Q_1\")\n\n    rail0Map = create_reduction_network(netlist, dwcWiremap0)\n    rail1Map = create_reduction_network(netlist, dwcWiremap1)\n\n    instance_JTAG_module(netlist, rail0Map, rail1Map)\n\n    netlist.compose('hotspring_main_top_dwc_balanced.edf')\n\n    user_clk_net = next(netlist.get_hwires('clk')).item\n    clk_pins = sdn.get_pins(list(netlist.get_hpins(\"Reg_Reg_Q_.*/clk\", is_re=True, recursive=True)),\n                            selection=\"OUTSIDE\")\n    for clk_pin in clk_pins:\n        user_clk_net.connect_pin(clk_pin)\n\n    netlist.compose('hotspring_main_top_dwc_balanced_with_clock.edf')\n\n    # finding places to insert detectors\n\n    # clocked_items = list(handoff_blocks_hinst.get_hinstances(recursive=True, filter=lambda\n    #     x: x.item.reference.is_leaf() and x.item.reference.name in clock_pins))\n    # clock_hpins = sdn.get_hpins(clocked_items, filter=is_clock_pin)\n    # clock_hwires = sdn.get_hwires(clock_hpins, selection=sdn.ALL)\n    # clock_drivers = sdn.get_hpins(clock_hwires, filter=lambda x: x.item.port.definition.is_leaf() is True and\n    #                               x.item.port.direction is sdn.OUT)\n    #\n    # handoff_blocks_nodes = list(x for x in connectivity_graph.nodes if\n    #                             x.name.startswith('handoff_top_inst/handoff_blocks') is True)\n\n\ndef parse_netlist():\n    global netlist\n    netlist = sdn.parse('hotspring_main_top.edf')\n\n\ndef uniquify_netlist():\n    from spydrnet.uniquify import uniquify\n    uniquify(netlist)\n\n\ndef parse_feedback_hierarchy(filename):\n    global feedback_hierarchy\n    feedback_hierarchy = list()\n    with open(filename) as fi:\n        for line in fi:\n            feedback_hierarchy.append(line.strip().split(' '))\n    hinsts = list(netlist.get_hinstances((x[1] for x in feedback_hierarchy if x[1].startswith('Feedback') is False),\n                                         recursive=True))\n    index = 0\n    for item in feedback_hierarchy:\n        item[0] = int(item[0])\n        name = hinsts[index].name\n        if name == item[1]:\n            item[1] = hinsts[index]\n            index += 1\n        for sub_index, sub_item in enumerate(item[2:], 2):\n            item[sub_index] = int(sub_item)\n\n\ndef create_connectivity_graph():\n    global connectivity_graph\n    hports = netlist.get_hports()\n    hinsts = netlist.get_hinstances(recursive=True, filter=lambda x: x.item.reference.is_leaf() is True)\n    from itertools import chain\n    connectivity_graph = nx.DiGraph(adjacency_list(chain(hports, hinsts)))\n\n\ndef is_clock_pin(hpin):\n    port = hpin.item.port\n    definition = port.definition\n    definition_name = definition.name\n    if definition_name in clock_pins:\n        port_name = port.name\n        if port_name in clock_pins[definition_name]:\n            return True\n    return False\n\n\n# hinst = next(netlist.get_hinstances('handoff_top_inst'))\n# leaf_insts = list(hinst.get_hinstances(recursive=True, filter=lambda x: x.item.reference.is_leaf() is True))\n# # 146624\n# # 152568 <- That is what vivado is saying... They can see inside the king fisher... Black boxes. I say don't mess with\n# # blackboxes\n#\n# count = dict()\n# for leaf_cell in leaf_insts:\n#     reference = leaf_cell.item.reference\n#     if reference not in count:\n#         count[reference] = 1\n#     else:\n#         count[reference] += 1\n#\n#\n# for key in sorted(count, key= lambda x: x.name):\n#     print(key.name, count[key])\n\nrun()\n\n# BITSLICE_CONTROL 12 X\n# BUFGCE 5 X\n# BUFG_GT 16 X\n# BUFG_GT_SYNC 8 X\n# GND 2029 X\n# GTYE4_CHANNEL 4 X\n# HPIO_VREF 4 X\n# IBUFDS 1 X\n# IBUFDS_GTE4 1 X\n# IOBUFDS 4 X\n# IOBUFE3 36 X\n# MMCME4_ADV 1 X\n# OBUF 25 X\n# OBUFDS 1 X\n# PLLE4_ADV 2 X\n# RIU_OR 6 X\n# RXTX_BITSLICE 65 X\n# TX_BITSLICE_TRI 12 X\n# VCC 1877 X\n# emac_rx_fifocompare_7 1 X\n# emac_rx_fifocompare_7_HD1089 1 X\n# emac_rx_fifocompare_7_HD1153 1 X\n# emac_rx_fifocompare_7_HD1217 1 X\n# tri_mode_eth_mac_vtri_mode_ethernet_mac_v9_0_8 1 X\n# tri_mode_eth_mac_vtri_mode_ethernet_mac_v9_0_8_HD1011 1 X\n# tri_mode_eth_mac_vtri_mode_ethernet_mac_v9_0_8_HD1044 1 X\n# tri_mode_eth_mac_vtri_mode_ethernet_mac_v9_0_8_HD978 1 X\n\n# Purely Combinational\n# AND2B1L 1\n# CARRY8 1218\n# LUT1 1067\n# LUT2 5287\n# LUT3 7709\n# LUT4 8901\n# LUT5 7185\n# LUT6 26158\n# LUT6_2 31\n# MUXF7 4807\n# MUXF8 1483\n\n# Hybrid\n# CFGLUT5 812 (async read, sync write)\n# DSP48E2 6\n# FDCE 10649 (async reset, sync D)\n# FDCPE 64 (async reset/preset, sync D)\n# FDPE 1014 (async reset, sync D)\n# RAM32M 113\n# RAM32M16 156\n# RAM64M8 2148\n# RAM64X1D 4096 (async read, sync write)\n# SRL16E 1569 (async read, sync write)\n# SRLC16E 4 (async read, sync write)\n# SRLC32E 106 (async read, sync write)\n\n# Purely Sequential\n# FDRE 55173\n# FDSE 2482\n# RAMB18E2 7 X?\n# RAMB36E2 261 X?\n\n# So, let's exclude those components, what is left? How many clusters do we have? Clock domains? Can we then rank items\n# clusters, or compoenents by this information."
      ]
    }
  ],
  "metadata": {
    "kernelspec": {
      "display_name": "Python 3",
      "language": "python",
      "name": "python3"
    },
    "language_info": {
      "codemirror_mode": {
        "name": "ipython",
        "version": 3
      },
      "file_extension": ".py",
      "mimetype": "text/x-python",
      "name": "python",
      "nbconvert_exporter": "python",
      "pygments_lexer": "ipython3",
      "version": "3.9.16"
    }
  },
  "nbformat": 4,
  "nbformat_minor": 0
}