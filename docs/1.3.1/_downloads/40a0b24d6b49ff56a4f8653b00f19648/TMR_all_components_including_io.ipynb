{
  "cells": [
    {
      "cell_type": "code",
      "execution_count": null,
      "metadata": {
        "collapsed": false
      },
      "outputs": [],
      "source": [
        "%matplotlib inline"
      ]
    },
    {
      "cell_type": "markdown",
      "metadata": {},
      "source": [
        "\n# TMR All Components Including IO\n"
      ]
    },
    {
      "cell_type": "code",
      "execution_count": null,
      "metadata": {
        "collapsed": false
      },
      "outputs": [],
      "source": [
        "import spydrnet as sdn\nimport spydrnet_tmr as sdn_tmr\n\nfrom spydrnet.uniquify import uniquify\n\nfrom spydrnet_tmr import apply_nmr\nfrom spydrnet_tmr import insert_organs\nfrom spydrnet_tmr.analysis.voter_insertion.find_voter_insertion_points import find_voter_insertion_points\n\nfrom spydrnet_tmr.transformation.replication.organ import XilinxTMRVoter\n\n# Load b13 netlist\nnetlist = sdn.load_example_netlist_by_name('b13')\n\n# Make sure non-leaf definition instances refer to a unique definition\nuniquify(netlist)\n\n# Find all instances and ports\nhinstances = list(netlist.get_hinstances(recursive=True, filter=lambda x: x.item.reference.is_leaf()))\nhports = list(netlist.get_hports())\n\n# Find voter insertion points\ninsertion_points = find_voter_insertion_points(\n    netlist, \n    [*hinstances, *hports], \n    {\"FDRE\", \"FDSE\", \"FDPE\", \"FDCE\"}\n)\n\n# Replicate instances and ports\ninstances = list(x.item for x in hinstances)\nports = list(x.item for x in hports)\ncopies = apply_nmr(\n    [*instances, *ports],\n    3,\n    name_suffix=\"TMR\",\n    rename_original=True,\n)\n\n# Insert voters\nvoters = insert_organs(\n    copies,\n    insertion_points,\n    XilinxTMRVoter(),\n    \"Voter\"\n)\n\nnetlist.compose('b13_TMR_all_components_including_io.edf')"
      ]
    }
  ],
  "metadata": {
    "kernelspec": {
      "display_name": "Python 3",
      "language": "python",
      "name": "python3"
    },
    "language_info": {
      "codemirror_mode": {
        "name": "ipython",
        "version": 3
      },
      "file_extension": ".py",
      "mimetype": "text/x-python",
      "name": "python",
      "nbconvert_exporter": "python",
      "pygments_lexer": "ipython3",
      "version": "3.9.16"
    }
  },
  "nbformat": 4,
  "nbformat_minor": 0
}