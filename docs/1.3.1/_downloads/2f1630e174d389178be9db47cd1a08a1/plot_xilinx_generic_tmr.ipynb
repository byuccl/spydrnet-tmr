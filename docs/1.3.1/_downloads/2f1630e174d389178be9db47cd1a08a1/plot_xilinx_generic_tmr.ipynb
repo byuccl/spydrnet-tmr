{
  "cells": [
    {
      "cell_type": "code",
      "execution_count": null,
      "metadata": {
        "collapsed": false
      },
      "outputs": [],
      "source": [
        "%matplotlib inline"
      ]
    },
    {
      "cell_type": "markdown",
      "metadata": {},
      "source": [
        "\n# Xilinx TMR\nThis is a xilinx TMR example using SpyDrNet TMR\n\nThe number of times each primitive is instanced before and after triplicating will be printed.\n"
      ]
    },
    {
      "cell_type": "code",
      "execution_count": null,
      "metadata": {
        "collapsed": false
      },
      "outputs": [],
      "source": [
        "import spydrnet as sdn\nfrom spydrnet.uniquify import uniquify\nfrom spydrnet_tmr import apply_nmr, insert_organs\nfrom spydrnet_tmr.support_files.vendor_names import XILINX\nfrom spydrnet_tmr.apply_tmr_to_netlist import apply_tmr_to_netlist\nfrom spydrnet_tmr.analysis.voter_insertion.find_reduction_voter_points import find_reduction_voter_points\nfrom spydrnet_tmr.transformation.replication.organ import XilinxTMRVoter\n\n\n# set_property design_mode GateLvl [current_fileset]\n# set_property edif_top_file <path_to_file> [current_fileset]\n# link_design -part <part_number> -mode out_of_context\nnetlist = sdn.load_example_netlist_by_name(\n    \"fourBitCounter\"\n)  # loading an example, use `sdn.parse(<netlist filename>)` otherwise\n\n# uniquify is called to insure that non-leaf definitions are instanced only once, prevents unintended transformations.\nuniquify(netlist)\n\n# set instances_to_replicate [get_cells -hierarchical -filter {PRIMITIVE_LEVEL==LEAF||PRIMITIVE_LEVEL==MACRO}]\nhinstances_to_replicate = list(\n    netlist.get_hinstances(\n        recursive=True, filter=lambda x: x.item.reference.is_leaf() is True\n    )\n)\n\n# set ports_to_replicate [get_ports]\nhports_to_replicate = list(\n    netlist.get_hports(filter=lambda x: x.item.direction is sdn.IN)\n)\n\ninstances_to_replicate = list(x.item for x in hinstances_to_replicate)\n\nports_to_replicate = list(x.item for x in hports_to_replicate)\n\n# valid_voter_point_dict = dict()\n# valid_voter_point_dict[\"reduction\"] = [\n#     *netlist.get_hports(),\n#     *hinstances_to_replicate,\n# ]\n\n# # find out where to insert reduction voters\n# netlist = apply_tmr_to_netlist(\n#     netlist,\n#     XILINX,\n#     hinstances_and_hports_to_replicate=[\n#         *hports_to_replicate,\n#         *hinstances_to_replicate,\n#     ],\n#     valid_voter_point_dict=valid_voter_point_dict,\n\ninsertion_points = find_reduction_voter_points(netlist,\n    [*hinstances_to_replicate, *hports_to_replicate],\n    XILINX\n)\n\nreplicas = apply_nmr(\n    [*instances_to_replicate, *ports_to_replicate],\n    3,\n    name_suffix=\"TMR\",\n    rename_original=True,\n)\nprint(insertion_points)\nvoters = insert_organs(replicas, insertion_points, XilinxTMRVoter(), \"VOTER\")\n\n# )\n\n# print the number of times each primitive is instanced\ndef instance_count(original_netlist, new_netlist):\n    print(\"\\nPrimitive count before and after TMR:\")\n    primitives_library = next(\n        new_netlist.get_libraries(\"hdi_primitives\"), None\n    )\n    for primitive in primitives_library.get_definitions():\n        i = 0\n        j = 0\n        for instance in original_netlist.get_instances():\n            if primitive.name == instance.reference.name:\n                i += 1\n        for instance in new_netlist.get_instances():\n            if primitive.name == instance.reference.name:\n                j += 1\n        print(\"\\t\", primitive.name, \": \", i, \" --> \", j)\n\n\ninstance_count(sdn.load_example_netlist_by_name(\"fourBitCounter\"), netlist)"
      ]
    }
  ],
  "metadata": {
    "kernelspec": {
      "display_name": "Python 3",
      "language": "python",
      "name": "python3"
    },
    "language_info": {
      "codemirror_mode": {
        "name": "ipython",
        "version": 3
      },
      "file_extension": ".py",
      "mimetype": "text/x-python",
      "name": "python",
      "nbconvert_exporter": "python",
      "pygments_lexer": "ipython3",
      "version": "3.9.16"
    }
  },
  "nbformat": 4,
  "nbformat_minor": 0
}