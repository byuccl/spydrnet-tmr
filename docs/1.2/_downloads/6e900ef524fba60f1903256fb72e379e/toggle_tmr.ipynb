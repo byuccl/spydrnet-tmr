{
  "cells": [
    {
      "cell_type": "code",
      "execution_count": null,
      "metadata": {
        "collapsed": false
      },
      "outputs": [],
      "source": [
        "%matplotlib inline"
      ]
    },
    {
      "cell_type": "markdown",
      "metadata": {},
      "source": [
        "\n# Toggle TMR Example\n\nThis is an example of doing TMR on a basic design using SpyDrNet TMR.\n\nFirst, we start with a simple design that includes a LUT and a flip flop. The following block is SystemVerilog code:\n\n.. code-block:: sv\n\n   module toggle(\n      input wire logic clk, reset,\n      output logic out\n      );\n   \n      always_ff @(posedge clk)\n         if (reset)\n            out <= 0;\n         else\n            out <= ~out;\n   endmodule\n\n.. figure:: ../../figures/toggle_original.png\n   :width: 600px\n   :align: center\n\n   Original Design\n\nThen we find the instances and ports to replicate. Note that in the following code that the only ports specified to be triplicated are the input ports that are not the clock (so just the reset port). We also find the voter insertion points.\n\n.. code-block::\n\n   hinstances_to_replicate = list(netlist.get_hinstances(recursive=True, filter=lambda x: x.item.reference.is_leaf() is True))\n   instances_to_replicate = list(x.item for x in hinstances_to_replicate)\n\n   hports_to_replicate = list(netlist.get_hports(filter = lambda x: x.item.direction is sdn.IN))\n   for x in hports_to_replicate:\n      if \"clk\" in x.name:\n         hports_to_replicate.remove(x)\n   ports_to_replicate = list(x.item for x in hports_to_replicate)\n\n   insertion_points = find_after_ff_voter_points([*hinstances_to_replicate, *hports_to_replicate], {'FDRE', 'FDSE', 'FDPE', 'FDCE'})\n\nNext, we triplicate the design using apply_nmr(). The instances and ports we specified are passed as two of the parameters. We also pass '3' and 'TMR' as number of replications and the applicable suffix, respectively.\n\n.. code-block::\n\n   replicas = apply_nmr([*instances_to_replicate, *ports_to_replicate], 3, name_suffix='TMR', rename_original=True)\n\n.. figure:: ../../figures/toggle_just_tmr.png\n   :width: 600px\n   :align: center\n\n   Design After Triplication\n\nThen we insert voters using insert_organs().\n\n.. code-block::\n\n   voters = insert_organs(replicas, insertion_points, XilinxTMRVoter(), 'VOTER')\n\nWhile viewing the schematic, note that the voters' outputs feed back into the flip flops. This will get the flip flop onto the correct state if its previous output was outvoted. Also note that one of the voters outputs to the 'out' port.\n\n.. figure:: ../../figures/toggle_tmr_with_voters.png\n   :width: 600px\n   :align: center\n\n   Final Design\n\n**See the full code below**\n\n"
      ]
    },
    {
      "cell_type": "code",
      "execution_count": null,
      "metadata": {
        "collapsed": false
      },
      "outputs": [],
      "source": [
        "import spydrnet as sdn\nfrom spydrnet.uniquify import uniquify\nfrom spydrnet_tmr import apply_nmr, insert_organs\nfrom spydrnet_tmr.analysis.voter_insertion.find_after_ff_voter_points import (\n    find_after_ff_voter_points,\n)\nfrom spydrnet_tmr.transformation.replication.organ import XilinxTMRVoter\n\n\nnetlist = sdn.load_example_netlist_by_name(\"toggle\")\n\nuniquify(netlist)\n\nhinstances_to_replicate = list(\n    netlist.get_hinstances(\n        recursive=True, filter=lambda x: x.item.reference.is_leaf() is True\n    )\n)\ninstances_to_replicate = list(x.item for x in hinstances_to_replicate)\n\nhports_to_replicate = list(\n    netlist.get_hports(filter=lambda x: x.item.direction is sdn.IN)\n)\nfor x in hports_to_replicate:\n   if \"clk\" in x.name:\n      hports_to_replicate.remove(x)\nports_to_replicate = list(x.item for x in hports_to_replicate)\n\ninsertion_points = find_after_ff_voter_points(\n    [*hinstances_to_replicate, *hports_to_replicate],\n    {\"FDRE\", \"FDSE\", \"FDPE\", \"FDCE\"},\n)\n\nreplicas = apply_nmr(\n    [*instances_to_replicate, *ports_to_replicate],\n    3,\n    name_suffix=\"TMR\",\n    rename_original=True,\n)\n\nvoters = insert_organs(replicas, insertion_points, XilinxTMRVoter(), \"VOTER\")\n\nnetlist.compose(\"toggle_tmr.edf\")"
      ]
    }
  ],
  "metadata": {
    "kernelspec": {
      "display_name": "Python 3",
      "language": "python",
      "name": "python3"
    },
    "language_info": {
      "codemirror_mode": {
        "name": "ipython",
        "version": 3
      },
      "file_extension": ".py",
      "mimetype": "text/x-python",
      "name": "python",
      "nbconvert_exporter": "python",
      "pygments_lexer": "ipython3",
      "version": "3.6.9"
    }
  },
  "nbformat": 4,
  "nbformat_minor": 0
}