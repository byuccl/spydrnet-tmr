{
  "cells": [
    {
      "cell_type": "code",
      "execution_count": null,
      "metadata": {
        "collapsed": false
      },
      "outputs": [],
      "source": [
        "%matplotlib inline"
      ]
    },
    {
      "cell_type": "markdown",
      "metadata": {},
      "source": [
        "\n# Design Rule Check Example\n\nThis is an example of using `drc_connections_after_replication_and_insertion` and `drc_properties_after_replication` found under *spydrnet_tmr.utils.design_rule_check*\n\n* **Setup**:\n    1. Do TMR with the example netlist 'b13'. Compose the resulting netlist as 'b13_modified.edf'.\n    2. Parse the netlists\n\n* **check_connections**:\n    1. Call check_connections(). The design will pass the check\n    2. Disconnect the output pin of the instance 'tx_conta_reg_TMR_1[6]'\n    3. Call check_connections() again. Now the design will fail the check. View the comparison results in 'drc_connection_results_b13.txt'. See that the output of the instance 'tx_conta_reg_TMR_1[6]' is why it failed\n    4. Reconnect the disconnected pin\n    5. Call check_connections() again. Now the design will pass the check\n\n* **check_properties_after_replication**:\n    1. Run check_properties_after_replication(). It will pass\n    2. Change the properties of the instance 'tx_conta_reg_TMR_1[6]'\n    3. Run check_properties_after_replication() again. It will fail. View the comparison results in 'drc_property_results_b13.txt'. See that the properties of the instance 'tx_conta_reg_TMR_1[6]' are why it failed\n\n.. rst-class:: sphx-glr-script-out\n\n Out:\n\n .. code-block:: none\n\n    Identified 56 insertion points for feedback voters after flip-flop.\n    CHECKING CONNECTIONS\n    PASSED\n    CHECKING CONNECTIONS\n    FAILED\n    CHECKING CONNECTIONS\n    PASSED\n    CHECKING PROPERTIES\n    PASSED\n    CHECKING PROPERTIES\n    FAILED\n\n"
      ]
    },
    {
      "cell_type": "code",
      "execution_count": null,
      "metadata": {
        "collapsed": false
      },
      "outputs": [],
      "source": [
        "import spydrnet as sdn\nfrom spydrnet.uniquify import uniquify\nfrom spydrnet.util.selection import Selection\nfrom spydrnet_tmr import insert_organs, apply_nmr\nfrom spydrnet_tmr.analysis.voter_insertion.find_after_ff_voter_points import find_after_ff_voter_points\nfrom spydrnet_tmr.transformation.replication.organ import XilinxTMRVoter\nfrom spydrnet_tmr.transformation.replication.uniquify_nmr_property import uniquify_nmr_property\nfrom spydrnet_tmr.utils.design_rule_check.drc_connections_after_replication_and_insertion import check_connections\nfrom spydrnet_tmr.utils.design_rule_check.drc_properties_after_replication import check_properties_after_replication\n\ndef run():\n\n    #setup\n    get_modified_netlists('b13')\n\n    #check_connections\n    netlist1 = sdn.parse(\"b13.edf\")\n    netlist2 = sdn.parse(\"b13_modified.edf\")\n    check_connections(netlist1,netlist2,'TMR',['VOTER'],True)\n\n    instance = next(netlist2.get_instances('tx_conta_reg_TMR_1[6]'),None)\n    pin_to_disconnect = next(instance.get_pins(selection=Selection.OUTSIDE,filter=lambda x: x.inner_pin.port.direction is sdn.OUT))\n    wire = pin_to_disconnect.wire\n    wire.disconnect_pin(pin_to_disconnect)\n    check_connections(netlist1,netlist2,'TMR',['VOTER'],True)\n\n    wire.connect_pin(pin_to_disconnect)\n    check_connections(netlist1,netlist2,'TMR',['VOTER'],True)\n\n    #check_properties_after_replication\n    check_properties_after_replication(netlist1,netlist2,'TMR',['VOTER'],True)\n\n    instance['EDIF.properties'] = [{'random properties':0000}]\n    check_properties_after_replication(netlist1,netlist2,'TMR',['VOTER'],True)\n\ndef get_modified_netlists(netlist_name):\n\n    netlist = sdn.load_example_netlist_by_name(netlist_name)\n    uniquify(netlist)\n    sdn.compose(netlist,netlist_name+\".edf\")\n\n    hinstances_to_replicate = list(netlist.get_hinstances(recursive=True, filter=lambda x: x.item.reference.is_leaf() is True))\n    instances_to_replicate = list(x.item for x in hinstances_to_replicate)\n    hports_to_replicate = list(netlist.get_hports())\n    ports_to_replicate = list(x.item for x in hports_to_replicate)\n    insertion_points = find_after_ff_voter_points([*hinstances_to_replicate, *hports_to_replicate], {'FDRE', 'FDSE', 'FDPE', 'FDCE'})\n    replicas = apply_nmr([*instances_to_replicate, *ports_to_replicate], 3, name_suffix='TMR', rename_original=True)\n    voters = insert_organs(replicas, insertion_points, XilinxTMRVoter(), 'VOTER')\n    uniquify_nmr_property(replicas, {'HBLKNM', 'HLUTNM', 'SOFT_HLUTNM'}, \"TMR\")\n\n    netlist.compose(netlist_name+\"_modified.edf\")\n\nrun()"
      ]
    }
  ],
  "metadata": {
    "kernelspec": {
      "display_name": "Python 3",
      "language": "python",
      "name": "python3"
    },
    "language_info": {
      "codemirror_mode": {
        "name": "ipython",
        "version": 3
      },
      "file_extension": ".py",
      "mimetype": "text/x-python",
      "name": "python",
      "nbconvert_exporter": "python",
      "pygments_lexer": "ipython3",
      "version": "3.6.9"
    }
  },
  "nbformat": 4,
  "nbformat_minor": 0
}