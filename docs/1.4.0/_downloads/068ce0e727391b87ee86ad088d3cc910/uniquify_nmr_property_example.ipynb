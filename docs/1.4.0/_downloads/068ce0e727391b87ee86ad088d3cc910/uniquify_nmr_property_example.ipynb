{
  "cells": [
    {
      "cell_type": "code",
      "execution_count": null,
      "metadata": {
        "collapsed": false
      },
      "outputs": [],
      "source": [
        "%matplotlib inline"
      ]
    },
    {
      "cell_type": "markdown",
      "metadata": {},
      "source": [
        "\n# Uniquify NMR Property Example\n\nLoads in the example netlist 'b13', triplicates it, and uniquifies the value of any instance with the property 'SOFT_HLUTNM'\n\nThe properties of 'FSM_onehot_next_bit[9]_i_2_TMR_<#>' is printed before and after uniquifying the property to show what is happening.\n\nSee `uniquify_nmr_property`\n\n.. rst-class:: sphx-glr-script-out\n\n Out:\n\n .. code-block:: none\n    \n    BEFORE UNIQUIFYING THE PROPERTY VALUE\n            FSM_onehot_next_bit[9]_i_2_TMR_0 [{'identifier': 'INIT', 'value': \"8'h7F\"}, {'identifier': 'SOFT_HLUTNM', 'value': 'soft_lutpair5'}]\n            FSM_onehot_next_bit[9]_i_2_TMR_1 [{'identifier': 'INIT', 'value': \"8'h7F\"}, {'identifier': 'SOFT_HLUTNM', 'value': 'soft_lutpair5'}]\n            FSM_onehot_next_bit[9]_i_2_TMR_2 [{'identifier': 'INIT', 'value': \"8'h7F\"}, {'identifier': 'SOFT_HLUTNM', 'value': 'soft_lutpair5'}]\n\n    AFTER UNIQUIFYING THE PROPERTY VALUE\n            FSM_onehot_next_bit[9]_i_2_TMR_0 [{'identifier': 'INIT', 'value': \"8'h7F\"}, {'identifier': 'SOFT_HLUTNM', 'value': 'soft_lutpair5_TMR_0'}]\n            FSM_onehot_next_bit[9]_i_2_TMR_1 [{'identifier': 'INIT', 'value': \"8'h7F\"}, {'identifier': 'SOFT_HLUTNM', 'value': 'soft_lutpair5_TMR_1'}]\n            FSM_onehot_next_bit[9]_i_2_TMR_2 [{'identifier': 'INIT', 'value': \"8'h7F\"}, {'identifier': 'SOFT_HLUTNM', 'value': 'soft_lutpair5_TMR_2'}]\n"
      ]
    },
    {
      "cell_type": "code",
      "execution_count": null,
      "metadata": {
        "collapsed": false
      },
      "outputs": [],
      "source": [
        "import spydrnet as sdn\nfrom spydrnet_tmr.transformation.replication.uniquify_nmr_property import uniquify_nmr_property\nfrom spydrnet.uniquify import uniquify\nfrom spydrnet_tmr import apply_nmr\n\ndef run():\n    netlist = sdn.load_example_netlist_by_name(\"b13\")\n    uniquify(netlist)\n    hinstances_to_replicate = list(netlist.get_hinstances(recursive=True, filter=lambda x: x.item.reference.is_leaf() is True))\n    instances_to_replicate = list(x.item for x in hinstances_to_replicate)\n    hports_to_replicate = list(netlist.get_hports())\n    ports_to_replicate = list(x.item for x in hports_to_replicate)\n\n    replicas = apply_nmr([*instances_to_replicate, *ports_to_replicate], 3, name_suffix='TMR', rename_original=True)\n\n\n    print(\"BEFORE UNIQUIFYING THE PROPERTY VALUE\")\n    for instance in netlist.get_instances():\n        if 'FSM_onehot_next_bit[9]_i_2' in instance.name:\n            print('\\t',instance.name,instance[\"EDIF.properties\"])\n\n\n    uniquify_nmr_property(replicas, 'SOFT_HLUTNM', \"TMR\")\n\n\n    print(\"\\nAFTER UNIQUIFYING THE PROPERTY VALUE\")\n    for instance in netlist.get_instances():\n        if 'FSM_onehot_next_bit[9]_i_2' in instance.name:\n            print('\\t',instance.name,instance[\"EDIF.properties\"])\n\nrun()"
      ]
    }
  ],
  "metadata": {
    "kernelspec": {
      "display_name": "Python 3",
      "language": "python",
      "name": "python3"
    },
    "language_info": {
      "codemirror_mode": {
        "name": "ipython",
        "version": 3
      },
      "file_extension": ".py",
      "mimetype": "text/x-python",
      "name": "python",
      "nbconvert_exporter": "python",
      "pygments_lexer": "ipython3",
      "version": "3.8.10"
    }
  },
  "nbformat": 4,
  "nbformat_minor": 0
}