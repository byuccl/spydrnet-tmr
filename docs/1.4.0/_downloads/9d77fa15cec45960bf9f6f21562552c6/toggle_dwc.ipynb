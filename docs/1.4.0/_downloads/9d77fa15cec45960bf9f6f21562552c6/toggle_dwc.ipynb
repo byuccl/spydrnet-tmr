{
  "cells": [
    {
      "cell_type": "code",
      "execution_count": null,
      "metadata": {
        "collapsed": false
      },
      "outputs": [],
      "source": [
        "%matplotlib inline"
      ]
    },
    {
      "cell_type": "markdown",
      "metadata": {},
      "source": [
        "\n# Toggle DWC Example\n\nThis is an example of doing DWC on a basic design using SpyDrNet TMR.\n\nFirst, we start with a simple design that includes a LUT and a flip flop. The following block is SystemVerilog code:\n\n.. code-block:: sv\n\n   module toggle(\n      input wire logic clk, reset,\n      output logic out\n      );\n   \n      always_ff @(posedge clk)\n         if (reset)\n            out <= 0;\n         else\n            out <= ~out;\n   endmodule\n\n.. figure:: ../../figures/toggle_original.png\n   :width: 600px\n   :align: center\n   \n   Original Design\n\nThen we find the instances and ports to replicate. Note that in the following code that both the 'reset' and 'out' ports are specified, while the 'clk' port is not. We also find the detector insertion points.\n\n.. code-block::\n\n    hinstances_to_replicate = list(netlist.get_hinstances(recursive=True, filter=lambda x: x.item.reference.is_leaf() is True))\n    instances_to_replicate = list(x.item for x in hinstances_to_replicate)\n\n    hports_to_replicate = list(netlist.get_hports(filter = lambda x: (not \"clk\" in x.name)is True))\n    ports_to_replicate = list(x.item for x in hports_to_replicate)\n\n    insertion_points = find_after_ff_voter_points(netlist, [*hinstances_to_replicate, *hports_to_replicate], vendor_name)\n\nNext, we duplicate the design using apply_nmr(). The instances and ports we specified are passed as two of the parameters. We also pass '2' and 'DWC' as number of replications and the applicable suffix, respectively.\n\n.. code-block::\n\n   replicas = apply_nmr([*instances_to_replicate, *ports_to_replicate], 2, name_suffix='DWC', rename_original=True)\n\n.. figure:: ../../figures/toggle_just_dwc.png\n   :width: 600px\n   :align: center\n   \n   Design After Duplication\n\nThen we insert detectors using insert_organs().\n\n.. code-block::\n\n    detectors = insert_organs(replicas, insertion_points, XilinxDWCDetector(), 'DETECTOR')\n\n.. figure:: ../../figures/toggle_disconnected_detectors.png\n   :width: 600px\n   :align: center\n   \n   Duplicated Design with Disconnected Detectors\n\nNote that the detectors' outputs are not connected to anything. To fix this,we create output ports in the top module and connect the detectors' outputs to them.\n\n.. code-block::\n\n    i = 0\n    for detector_instance in netlist.get_instances(patterns=\"*DETECTOR*\"):\n        for port in detector_instance.get_ports(filter=lambda x: x.direction is sdn.OUT):\n            for pin in port.get_pins(selection = Selection.OUTSIDE,filter=lambda x: (x.inner_pin.port.direction is sdn.OUT and x.instance.name is detector_instance.name)is True):\n                new_port = netlist.top_instance.reference.create_port(name=\"dwc_out_\"+str(i),direction=sdn.OUT)\n                new_pin = new_port.create_pin()\n                if pin.wire:\n                    pin.wire.connect_pin(new_pin)\n                else:\n                    new_cable = netlist.top_instance.reference.create_cable(name=\"dwc_cable_\"+str(i))\n                    new_wire = new_cable.create_wire()\n                    new_wire.connect_pin(pin)\n                    new_wire.connect_pin(new_pin)\n                i += 1\n\n.. figure:: ../../figures/toggle_dwc_final.png\n    :width: 600px\n    :align: center\n    \n    Final Design\n\n**See the full code below**\n"
      ]
    },
    {
      "cell_type": "code",
      "execution_count": null,
      "metadata": {
        "collapsed": false
      },
      "outputs": [],
      "source": [
        "import spydrnet as sdn\nfrom spydrnet.uniquify import uniquify\nfrom spydrnet_tmr import apply_nmr, insert_organs\nfrom spydrnet_tmr.analysis.voter_insertion.find_after_ff_voter_points import (\n    find_after_ff_voter_points,\n)\nfrom spydrnet_tmr.support_files.vendor_names import XILINX\nfrom spydrnet_tmr.transformation.replication.organ import XilinxDWCDetector\nfrom spydrnet.util.selection import Selection\n\n\nnetlist = sdn.load_example_netlist_by_name(\"toggle\")\n\nuniquify(netlist)\n\nhinstances_to_replicate = list(\n    netlist.get_hinstances(\n        recursive=True, filter=lambda x: x.item.reference.is_leaf() is True\n    )\n)\ninstances_to_replicate = list(x.item for x in hinstances_to_replicate)\n\nhports_to_replicate = list(\n    netlist.get_hports(filter=lambda x: (not \"clk\" in x.name) is True)\n)\nports_to_replicate = list(x.item for x in hports_to_replicate)\n\ninsertion_points = find_after_ff_voter_points(\n    netlist, [*hinstances_to_replicate, *hports_to_replicate], XILINX\n)\n\nreplicas = apply_nmr(\n    [*instances_to_replicate, *ports_to_replicate],\n    2,\n    name_suffix=\"DWC\",\n    rename_original=True,\n)\n\ndetectors = insert_organs(replicas, insertion_points, XilinxDWCDetector(), \"DETECTOR\")\n\n\n# create output ports for Detector outputs\ni = 0\nfor detector_instance in netlist.get_instances(patterns=\"*DETECTOR*\"):\n    for port in detector_instance.get_ports(filter=lambda x: x.direction is sdn.OUT):\n        for pin in port.get_pins(\n            selection=Selection.OUTSIDE,\n            filter=lambda x: (\n                x.inner_pin.port.direction is sdn.OUT\n                and x.instance.name is detector_instance.name\n            )\n            is True,\n        ):\n            new_port = netlist.top_instance.reference.create_port(\n                name=\"dwc_out_\" + str(i), direction=sdn.OUT\n            )\n            new_pin = new_port.create_pin()\n            if pin.wire:\n                pin.wire.connect_pin(new_pin)\n            else:\n                new_cable = netlist.top_instance.reference.create_cable(\n                    name=\"dwc_cable_\" + str(i)\n                )\n                new_wire = new_cable.create_wire()\n                new_wire.connect_pin(pin)\n                new_wire.connect_pin(new_pin)\n            i += 1\n\n\n# compose out the netlist\nnetlist.compose(\"toggle_dwc.edf\")"
      ]
    }
  ],
  "metadata": {
    "kernelspec": {
      "display_name": "Python 3",
      "language": "python",
      "name": "python3"
    },
    "language_info": {
      "codemirror_mode": {
        "name": "ipython",
        "version": 3
      },
      "file_extension": ".py",
      "mimetype": "text/x-python",
      "name": "python",
      "nbconvert_exporter": "python",
      "pygments_lexer": "ipython3",
      "version": "3.8.10"
    }
  },
  "nbformat": 4,
  "nbformat_minor": 0
}