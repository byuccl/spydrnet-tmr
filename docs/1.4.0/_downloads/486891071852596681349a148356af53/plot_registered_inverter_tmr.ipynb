{
  "cells": [
    {
      "cell_type": "code",
      "execution_count": null,
      "metadata": {
        "collapsed": false
      },
      "outputs": [],
      "source": [
        "%matplotlib inline"
      ]
    },
    {
      "cell_type": "markdown",
      "metadata": {},
      "source": [
        "\n# Registered Inverter TMR Example\n\nIn this example, there is a global clock buffer that is triplicated. This allows \nfor a global clock buffer for each TMR domain in case a BUFG fails. It is \npossible that a synchronous element in the design may not be triplicated, \nand needs a signal from a BUFG. When a synchronous element that receives a \nsignal from a BUFG is not triplicated, special care needs to be taken to ensure \nthat a voter is not placed in its path, but rather that the non-replicated \nsynchronous element just receives its clock signal from the primary TMR domain. \nIf a voter is placed in its path, this could result in large hold time \nviolations\n\nThis is a good example of how to use SpyDrNet TMR to selectively replicate a \ndesign and still maintain performance by controlling the placement of voters.\n"
      ]
    },
    {
      "cell_type": "code",
      "execution_count": null,
      "metadata": {
        "collapsed": false
      },
      "outputs": [],
      "source": [
        "from spydrnet.uniquify import uniquify\nfrom spydrnet_tmr import load_example_netlist_by_name\nfrom spydrnet_tmr.apply_tmr_to_netlist import apply_tmr_to_netlist\nfrom spydrnet_tmr.support_files.vendor_names import XILINX\n\n\ndef run():\n    \"\"\"\n    Generate netlist with no voters after BUFGs\n    \"\"\"\n    netlist_name = \"registered_inverter\"\n\n    non_replicated_instance_names = {\n        \"DQ_reg[1]\",\n    }\n\n    generate_tmr_netlist(netlist_name, non_replicated_instance_names)\n\n\ndef generate_tmr_netlist(netlist_name, non_replicated_instance_names):\n    \"\"\"\n    Generate a TMR netlist\n\n    \"\"\"\n    netlist = load_example_netlist_by_name(netlist_name)\n    uniquify(netlist)\n\n    # Find hierarchical references to all leaf finstances and exclude the given\n    # non-replicated instances from the list\n    hinstances_to_replicate = list(\n        netlist.get_hinstances(\n            recursive=True,\n            filter=lambda x: x.item.reference.is_leaf() is True\n            and x.item.name not in non_replicated_instance_names,\n        )\n    )\n\n    # Find hierarchical references to top-level ports\n    valid_voter_point_dict = dict()\n    valid_voter_point_dict[\"reduction\"] = list(\n        x\n        for x in hinstances_to_replicate\n        if x.item.reference.name not in {\"BUFG\"}\n    )\n\n    apply_tmr_to_netlist(\n        netlist,\n        XILINX,\n        hinstances_and_hports_to_replicate=hinstances_to_replicate,\n        valid_voter_point_dict=valid_voter_point_dict,\n    )\n\n    netlist_tmr_name = netlist_name + \"_tmr\"\n    netlist.compose(netlist_tmr_name + \".edf\")\n\n\nrun()"
      ]
    }
  ],
  "metadata": {
    "kernelspec": {
      "display_name": "Python 3",
      "language": "python",
      "name": "python3"
    },
    "language_info": {
      "codemirror_mode": {
        "name": "ipython",
        "version": 3
      },
      "file_extension": ".py",
      "mimetype": "text/x-python",
      "name": "python",
      "nbconvert_exporter": "python",
      "pygments_lexer": "ipython3",
      "version": "3.8.10"
    }
  },
  "nbformat": 4,
  "nbformat_minor": 0
}