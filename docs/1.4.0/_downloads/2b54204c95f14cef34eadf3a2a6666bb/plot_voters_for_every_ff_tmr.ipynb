{
  "cells": [
    {
      "cell_type": "code",
      "execution_count": null,
      "metadata": {
        "collapsed": false
      },
      "outputs": [],
      "source": [
        "%matplotlib inline"
      ]
    },
    {
      "cell_type": "markdown",
      "metadata": {},
      "source": [
        "\n# Voter Before/After Every Flip-Flop Algorithms\n\nThere are several ways to place voters in a TMR netlist. This example covers the\ntwo simplest ways: placing voters before every flip-flop, and placing voters\nafter every flip-flop.\n\nThe only difference in the process between these algorithms and other algorithms\nthat SpyDrNet TMR implements occurs when finding the insertion points for the\nvoters. In this example, two netlists are composed. One that uses the\n`find_before_ff_voter_points` function to find insertion points for\nvoters, and one that uses the `find_after_ff_voter_points` function.\n"
      ]
    },
    {
      "cell_type": "code",
      "execution_count": null,
      "metadata": {
        "collapsed": false
      },
      "outputs": [],
      "source": [
        "import spydrnet as sdn\nfrom spydrnet.uniquify import uniquify\nfrom spydrnet_tmr.apply_tmr_to_netlist import apply_tmr_to_netlist\nfrom spydrnet_tmr.support_files.vendor_names import XILINX\n\n\ndef run():\n    \"\"\"\n    Generate two netlists: one with voters before every flip-flop, and one\n    with voters after every flip-flop\n    \"\"\"\n    netlist_name = \"b13\"\n\n    generate_tmr_netlist(netlist_name, voters_before_ff=True)\n    generate_tmr_netlist(netlist_name, voters_before_ff=False)\n\n\ndef generate_tmr_netlist(netlist_name, voters_before_ff=True):\n    \"\"\"\n    Generate a TMR netlist with voters before/after every flip-flop\n\n    Parameters\n    \"\"\"\n    netlist = sdn.load_example_netlist_by_name(netlist_name)\n    uniquify(netlist)\n\n    # set instances_to_replicate [get_cells -hierarchical -filter \\\n    # {PRIMITIVE_LEVEL==LEAF||PRIMITIVE_LEVEL==MACRO}]\n    hinstances_to_replicate = list(\n        netlist.get_hinstances(\n            recursive=True, filter=lambda x: x.item.reference.is_leaf() is True\n        )\n    )\n\n    # set ports_to_replicate [get_ports]\n    hports_to_replicate = list(port for port in netlist.get_hports())\n\n    valid_voter_point_dict = dict()\n    valid_voter_point_dict[\"reduction\"] = [\n        *hinstances_to_replicate,\n        *hports_to_replicate,\n    ]\n\n    # find out where to insert reduction and feedback voters\n    if voters_before_ff:\n        valid_voter_point_dict[\"before_ff\"] = [\n            *hinstances_to_replicate,\n            *hports_to_replicate,\n        ]\n    else:\n        valid_voter_point_dict[\"after_ff\"] = [\n            *hinstances_to_replicate,\n            *hports_to_replicate,\n        ]\n\n    netlist = apply_tmr_to_netlist(\n        netlist,\n        XILINX,\n        hinstances_and_hports_to_replicate=[\n            *hinstances_to_replicate,\n            *hports_to_replicate,\n        ],\n        valid_voter_point_dict=valid_voter_point_dict,\n    )\n\n    netlist_tmr_name = \"\"\n\n    if voters_before_ff:\n        netlist_tmr_name = netlist_name + \"_before_ff_tmr\"\n    else:\n        netlist_tmr_name = netlist_name + \"_after_ff_tmr\"\n\n    netlist.compose(netlist_tmr_name + \".edf\")\n\n\nrun()"
      ]
    }
  ],
  "metadata": {
    "kernelspec": {
      "display_name": "Python 3",
      "language": "python",
      "name": "python3"
    },
    "language_info": {
      "codemirror_mode": {
        "name": "ipython",
        "version": 3
      },
      "file_extension": ".py",
      "mimetype": "text/x-python",
      "name": "python",
      "nbconvert_exporter": "python",
      "pygments_lexer": "ipython3",
      "version": "3.8.10"
    }
  },
  "nbformat": 4,
  "nbformat_minor": 0
}