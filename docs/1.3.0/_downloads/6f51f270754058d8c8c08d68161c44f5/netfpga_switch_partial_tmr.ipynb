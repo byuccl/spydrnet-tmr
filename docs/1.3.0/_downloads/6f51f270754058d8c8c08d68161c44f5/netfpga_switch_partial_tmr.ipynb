{
  "cells": [
    {
      "cell_type": "code",
      "execution_count": null,
      "metadata": {
        "collapsed": false
      },
      "outputs": [],
      "source": [
        "%matplotlib inline"
      ]
    },
    {
      "cell_type": "markdown",
      "metadata": {},
      "source": [
        "\n# Xilinx TMR\nThis is a xilinx TMR example using SpyDrNet TMR\n"
      ]
    },
    {
      "cell_type": "code",
      "execution_count": null,
      "metadata": {
        "collapsed": false
      },
      "outputs": [],
      "source": [
        "import spydrnet as sdn\nfrom spydrnet.uniquify import uniquify\nfrom spydrnet_tmr.transformation.replication.organ import XilinxTMRVoter\nfrom spydrnet_tmr import apply_nmr, insert_organs, uniquify_nmr_property\nimport spydrnet_tmr as sdn_tmr\nfrom spydrnet_tmr.analysis.voter_insertion.find_voter_insertion_points import find_voter_insertion_points\n\ndef run():\n    netlist = sdn.parse('reference_switch-baseline-pblock-20180511.edf')\n\n    # uniquify is called to insure that non-leaf definitions are instanced only once, prevents unintended transformations.\n    uniquify(netlist)\n\n    pin_clock_domains = sdn_tmr.pin_clock_domain_analysis(netlist)\n    synchronizer_chains = sdn_tmr.find_synchronizers(netlist, pin_clock_domains)\n    hinstances_to_replicate = make_selection(netlist, pin_clock_domains, synchronizer_chains)\n\n    with open(\"tmr_selection_conservative_1.txt\", \"w\") as fi:\n        for inst in hinstances_to_replicate:\n            fi.write(inst.name + '\\n')\n\n    print(\"Replicating {} instances\".format(len(hinstances_to_replicate)))\n    instances_to_replicate = list(x.item for x in hinstances_to_replicate)\n\n    # find out where to insert reduction and feedback voters\n    insertion_points = find_voter_insertion_points(netlist, hinstances_to_replicate, {'FDRE', 'FDSE', 'FDPE', 'FDCE'})\n\n    # replicate instances and ports\n    replicas = apply_nmr(instances_to_replicate, 3, name_suffix='TMR', rename_original=True)\n    uniquify_nmr_property(replicas, {'HBLKNM', 'HLUTNM', 'SOFT_HLUTNM'}, \"TMR\")\n    # insert voters on the selected drivers\n    voters = insert_organs(replicas, insertion_points, XilinxTMRVoter(), 'VOTER')\n\n    #compose out the netlist\n    netlist.compose('reference_switch-conservative_tmr_rev1b.edf')\n\n\ndef make_selection(netlist, pin_clock_domains, synchronizer_chains):\n    synchronizers = set()\n    for chain in synchronizer_chains:\n        synchronizers.update(chain)\n\n    multi_clock = set(next(pin.get_hinstances()) for pin, clocks in pin_clock_domains.items() if len(clocks) > 1)\n\n    #exclude anything that drives a black box or multi-clock cell up to and including that element.\n\n    primitive_info = sdn_tmr.load_primitive_info(netlist)\n\n    blackboxes = set(netlist.get_hinstances(recursive=True, filter=lambda x: x.item.reference.is_leaf() and\n                                                                             x.item.reference not in primitive_info['combinational_cells'] and\n                                                                             x.item.reference not in primitive_info['sequential_cells'] and\n                                                                             x.item.reference not in primitive_info['power_ground_cells']))\n\n\n    items_to_search = [*multi_clock, *blackboxes]\n    additional_excludes = set()\n    while items_to_search:\n        input_pins_to_excluded_items = set(sdn.get_hpins(items_to_search, filter=lambda x: x.item.port.direction is sdn.IN))\n        connected_wires = set(sdn.get_hwires(input_pins_to_excluded_items, selection=\"ALL\"))\n        connected_srcs = set(sdn.get_hpins(connected_wires, filter=lambda x: x.item.port.direction is sdn.OUT and x.item.port.definition.is_leaf()))\n        connected_instances = set(sdn.get_hinstances(connected_srcs))\n\n        items_to_search = set()\n        for instance in connected_instances:\n            reference = instance.item.reference\n            if reference in primitive_info['combinational_cells']:\n                items_to_search.add(instance)\n                additional_excludes.add(instance)\n            elif reference in primitive_info['sequential_cells']:\n                additional_excludes.add(instance)\n\n    comb_seq_cells = set(netlist.get_hinstances(recursive=True, filter=lambda x:\n                                                x.item.reference in primitive_info['combinational_cells'] or\n                                                x.item.reference in primitive_info['sequential_cells']))\n\n    print(\"number of synchronizers\", len(synchronizers))\n    print(\"Combinational or Sequential Leaf cell candiadates\", len(comb_seq_cells))\n\n    selection = comb_seq_cells\n    selection = selection - synchronizers\n    selection = selection - multi_clock\n    selection = selection - additional_excludes\n\n    return selection\n\n\nrun()"
      ]
    }
  ],
  "metadata": {
    "kernelspec": {
      "display_name": "Python 3",
      "language": "python",
      "name": "python3"
    },
    "language_info": {
      "codemirror_mode": {
        "name": "ipython",
        "version": 3
      },
      "file_extension": ".py",
      "mimetype": "text/x-python",
      "name": "python",
      "nbconvert_exporter": "python",
      "pygments_lexer": "ipython3",
      "version": "3.9.16"
    }
  },
  "nbformat": 4,
  "nbformat_minor": 0
}