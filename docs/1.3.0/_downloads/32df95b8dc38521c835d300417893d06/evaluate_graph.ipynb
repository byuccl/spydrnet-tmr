{
  "cells": [
    {
      "cell_type": "code",
      "execution_count": null,
      "metadata": {
        "collapsed": false
      },
      "outputs": [],
      "source": [
        "%matplotlib inline"
      ]
    },
    {
      "cell_type": "markdown",
      "metadata": {},
      "source": [
        "\n# Evaluate Graph\n"
      ]
    },
    {
      "cell_type": "code",
      "execution_count": null,
      "metadata": {
        "collapsed": false
      },
      "outputs": [],
      "source": [
        "import sys\nimport spydrnet as sdn\nfrom plot_connectivity_graph import ConnectivityGraphGenerator\nfrom itertools import chain\nimport networkx as nx\nimport glob\nimport os\n\ndef run():\n    filenames = glob.glob(\"../**/*.edf\")\n    for filename in sorted(filenames):\n        report(filename)\n\ndef report(filename):\n    connectivity_graph = nx.DiGraph()\n    instances = 0\n    tmr_instances = 0\n    reduction_voter = 0\n    non_tmr_sinks = 0\n    non_tmr_srcs = set()\n    tmr_srcs = set()\n    num_protected_edge = 0\n    clk_rst_protected_edges = 0\n    netlist = sdn.parse(filename)\n    top_definition = netlist.top_instance.reference\n    for instance in top_definition.children:\n        instances += 1\n        if get_name(instance.reference) in {\"GND\", \"VCC\"}:\n            continue\n        name = get_name(instance)\n        if name.endswith(\"_TMR_2\"):\n            connectivity_graph.add_node(instance)\n            tmr_instances += 1\n            reference = instance.reference\n            input_ports = list(x for x in reference.ports if x.direction == sdn.IN)\n            input_pins = list(chain.from_iterable(x.pins for x in input_ports))\n            outer_pins = list(instance.pins[x] for x in input_pins)\n            for outer_pin in outer_pins:\n                wire = outer_pin.wire\n                if wire:\n                    for pin in wire.pins:\n                        if isinstance(pin, sdn.OuterPin):\n                            if pin.inner_pin.port.direction == sdn.OUT:\n                                if get_name(pin.instance.reference) in {\"GND\", \"VCC\"}:\n                                    continue\n                                if get_name(pin.instance).endswith(\"_TMR_2\") is False:\n                                    non_tmr_srcs.add(pin)\n                                else:\n                                    tmr_srcs.add(pin)\n                                    connectivity_graph.add_edge(pin.instance, instance)\n                                    num_protected_edge += 1\n                        else:\n                            if pin.port.direction == sdn.IN:\n                                if get_name(pin.port).endswith(\"_TMR_2\") is False:\n                                    non_tmr_srcs.add(pin)\n                                else:\n                                    clk_rst_protected_edges += 1\n        if name.endswith(\"_TMR_0_VOTER\"):\n            reference = instance.reference\n            output_port = next(x for x in reference.ports if x[\"EDIF.identifier\"] == \"O\")\n            output_pin = output_port.pins[0]\n            outer_pin = instance.pins[output_pin]\n            wire = outer_pin.wire\n            non_tmr_sinks += len(wire.pins) - 1\n            reduction_voter += 1\n    basename = os.path.splitext(os.path.basename(filename))[0]\n    print(\"{},{},{},{},{},{},{},{},{},{}\".format(basename, instances, tmr_instances, clk_rst_protected_edges, num_protected_edge, len(tmr_srcs), reduction_voter, len(non_tmr_srcs), non_tmr_sinks, nx.number_weakly_connected_components(connectivity_graph)))\n    #print(\"Total Instances\", instances)\n    #print(\"Instances TMR'd\", tmr_instances)\n    #print(\"Number of clk reset protected\", clk_rst_protected_edges)\n    #print(\"Number of protected edges\", num_protected_edge)\n    #print(\"Number of protected routes\", len(tmr_srcs))\n    #print(\"Reduction Voters\", reduction_voter)\n    #print(\"Non-TMR sources\", len(non_tmr_srcs))\n    #print(\"Non-TMR sinks\", non_tmr_sinks)\n    #print(\"Number of weakly connected components\", nx.number_weakly_connected_components(connectivity_graph))\n    \ndef get_name(object):\n    if \"EDIF.original_identifier\" in object:\n        return object[\"EDIF.original_identifier\"]\n    return object[\"EDIF.identifier\"]\n    \n\nrun()"
      ]
    }
  ],
  "metadata": {
    "kernelspec": {
      "display_name": "Python 3",
      "language": "python",
      "name": "python3"
    },
    "language_info": {
      "codemirror_mode": {
        "name": "ipython",
        "version": 3
      },
      "file_extension": ".py",
      "mimetype": "text/x-python",
      "name": "python",
      "nbconvert_exporter": "python",
      "pygments_lexer": "ipython3",
      "version": "3.9.16"
    }
  },
  "nbformat": 4,
  "nbformat_minor": 0
}