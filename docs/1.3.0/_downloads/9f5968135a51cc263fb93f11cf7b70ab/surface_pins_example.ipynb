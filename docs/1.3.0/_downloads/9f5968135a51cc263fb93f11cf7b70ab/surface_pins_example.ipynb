{
  "cells": [
    {
      "cell_type": "code",
      "execution_count": null,
      "metadata": {
        "collapsed": false
      },
      "outputs": [],
      "source": [
        "%matplotlib inline"
      ]
    },
    {
      "cell_type": "markdown",
      "metadata": {},
      "source": [
        "\n# Surface Pins Example\n\nThis is an example of using surface_pins to bring pins to the top module. Although this example surfaces detector's pins in DWC, other pins can be surfaced as well (e.g. a flipflop's reset pin)\n\nFirst, parse the original netlist and specify what to replicate.\n\n```\nnetlist = sdn.load_example_netlist_by_name('hierarchical_luts')\n\nuniquify(netlist)\n\nhinstances_to_replicate = list(netlist.get_hinstances(recursive=True, filter=lambda x: x.item.reference.is_leaf() is True))\ninstances_to_replicate = list(x.item for x in hinstances_to_replicate)\n\nhports_to_replicate = list(netlist.get_hports(filter = lambda x: (not \"clk\" in x.name)is True))\nports_to_replicate = list(x.item for x in hports_to_replicate)\n```\nThen find the detector insertion points. This is done manually in this example by going to the bottom hierarchical level and getting the instance's output pins.\n\n```\ninsertion_points = []\nfor instance in netlist.get_instances():\n    if 'sub1' in instance.parent.name:\n        insertion_points.append(next(instance.get_pins(selection=selection.Selection.OUTSIDE,filter=lambda x: x.inner_pin.port.direction is sdn.OUT)))\n```\nReplicate and insert detectors\n\n```\nreplicas = apply_nmr([*instances_to_replicate, *ports_to_replicate], 2, name_suffix='DWC', rename_original=True)\ndetectors = insert_organs(replicas, insertion_points, XilinxDWCDetector(), 'DETECTOR')\n```\nAs seen in the schematic below, the detector's output are not connected, and they are buried some levels down in hierarchy. The surface_pins functions provides an easy way to brings the detectors' output pins up to the top level.\n\n.. figure:: ../../figures/hluts_detectors_beneath.png\n   :width: 600px\n   :align: center\n\n\nSpecify which pins to surface and call surface_pins to bring them to the top level module. Do this by taking the return of insert_organs() and getting all output pins of the instances (which are the organs that were inserted). Compose the resulting netlist.\n\n```\npins_to_surface = []\nfor key in detectors.keys():\n    pins_to_surface += list((next(x.get_pins(selection=Selection.OUTSIDE,filter=lambda x:(x.inner_pin.port.direction is sdn.OUT)))) for x in voters[key])\nsurface_pins(pins_to_surface)\n\nnetlist.compose(\"hierarchical_luts_dwc_detectors.edf\")\n```\nSee the resulting schematic.\n\n.. figure:: ../../figures/hluts_detectors_surfaced.png\n   :width: 600px\n   :align: center\n\n**See the full code below**\n"
      ]
    },
    {
      "cell_type": "code",
      "execution_count": null,
      "metadata": {
        "collapsed": false
      },
      "outputs": [],
      "source": [
        "import spydrnet as sdn\nfrom spydrnet.uniquify import uniquify\nfrom spydrnet.util.selection import Selection\nfrom spydrnet_tmr import apply_nmr, insert_organs\nfrom spydrnet_tmr.transformation.replication.organ import (\n    XilinxDWCDetector,\n)\nfrom spydrnet_tmr.transformation.surface_pins import surface_pins\n\n\ndef run():\n    netlist = sdn.load_example_netlist_by_name(\"hierarchical_luts\")\n    uniquify(netlist)\n\n    hinstances_to_replicate = list(\n        netlist.get_hinstances(\n            recursive=True, filter=lambda x: x.item.reference.is_leaf() is True\n        )\n    )\n    instances_to_replicate = list(x.item for x in hinstances_to_replicate)\n\n    hports_to_replicate = list(\n        netlist.get_hports(filter=lambda x: (not \"clk\" in x.name) is True)\n    )\n    ports_to_replicate = list(x.item for x in hports_to_replicate)\n\n    insertion_points = []\n    for instance in netlist.get_instances():\n        if \"sub1\" in instance.parent.name:\n            print(instance.name, \"of\", instance.parent.name)\n            insertion_points.append(\n                next(\n                    instance.get_pins(\n                        selection=Selection.OUTSIDE,\n                        filter=lambda x: x.inner_pin.port.direction is sdn.OUT,\n                    )\n                )\n            )\n\n    replicas = apply_nmr(\n        [*instances_to_replicate, *ports_to_replicate],\n        2,\n        name_suffix=\"DWC\",\n        rename_original=True,\n    )\n    detectors = insert_organs(\n        replicas, insertion_points, XilinxDWCDetector(), \"DETECTOR\"\n    )\n\n    pins_to_surface = []\n    for key in detectors.keys():\n        pins_to_surface += list((next(x.get_pins(selection=Selection.OUTSIDE,filter=lambda x:(x.inner_pin.port.direction is sdn.OUT)))) for x in detectors[key])\n    surface_pins(pins_to_surface)\n\n    netlist.compose(\"hierarchical_luts_dwc.edf\")\n\n\nrun()"
      ]
    }
  ],
  "metadata": {
    "kernelspec": {
      "display_name": "Python 3",
      "language": "python",
      "name": "python3"
    },
    "language_info": {
      "codemirror_mode": {
        "name": "ipython",
        "version": 3
      },
      "file_extension": ".py",
      "mimetype": "text/x-python",
      "name": "python",
      "nbconvert_exporter": "python",
      "pygments_lexer": "ipython3",
      "version": "3.9.16"
    }
  },
  "nbformat": 4,
  "nbformat_minor": 0
}