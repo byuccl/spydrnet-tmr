{
  "cells": [
    {
      "cell_type": "code",
      "execution_count": null,
      "metadata": {
        "collapsed": false
      },
      "outputs": [],
      "source": [
        "%matplotlib inline"
      ]
    },
    {
      "cell_type": "markdown",
      "metadata": {},
      "source": [
        "\n# Maximize Protected Routes\n"
      ]
    },
    {
      "cell_type": "code",
      "execution_count": null,
      "metadata": {
        "collapsed": false
      },
      "outputs": [],
      "source": [
        "import spydrnet as sdn\nimport spydrnet_tmr as sdn_tmr\nimport networkx as nx\n\ntry:\n    from gurobipy import *\nexcept:\n    print(\"This example requires Gurobi. Please see gurobi.com for install and to aquire a license.\")\n    exit(0)\n\ngraph = None\nmodel = None\n\nnodeToIDMap = None\nIDtoNodeMap = None\nnodeSetVarMap = None\nnodeUnsetVarMap = None\n\nmaxCoverage = None\nmaxInstances = None\nselectedInstances = None\nprotectedEdges = None\nneededReductionVoters = None\n\nimport sys, traceback\n\n\ndef run():\n    global graph\n    global maxCoverage\n    \n    graph = get_connectivity_graph()\n    \n    totalNodes = graph.number_of_nodes()\n    totalEdges = graph.number_of_edges()\n    \n    with open(\"results.csv\", 'w') as fi:\n        for nodeCount in range(2, totalNodes + 1):\n            maxCoverage = nodeCount/totalNodes\n            run_solver()\n            if selectedInstances > 0:\n                export_dot(\"dot/b13_{}.dot\".format(nodeCount), graph)\n                fi.write(\"{},{},{},{},{}\\n\".format(nodeCount,selectedInstances, protectedEdges, neededReductionVoters, protectedEdges/selectedInstances*totalNodes/totalEdges)) \n    \ndef run_solver():\n    global model\n    try:\n        model = Model(\"maxP\")\n        solve_model()\n    except GurobiError as e:\n        print('Error code ' + str(e.errno) + \": \" + str(e))\n        traceback.print_exc(file=sys.stdout)\n\n    except AttributeError:\n        print('Encountered an attribute error')\n        \ndef get_connectivity_graph():\n    netlist = sdn.load_example_netlist_by_name(\"b13\")\n\n    all_leaf_hinstances = list(\n        netlist.get_hinstances(\n            recursive=True, filter=lambda x: x.item.reference.is_leaf() is True\n        )\n    )\n    all_top_level_ports = list(netlist.get_hports())\n    connections = sdn_tmr.adjacency_list([*all_leaf_hinstances, *all_top_level_ports])\n    connectivity_graph = nx.DiGraph(connections)\n    \n    return connectivity_graph\n    \ndef solve_model():\n    create_variables_constraints_and_objective()\n    optimize_model()\n    \ndef create_variables_constraints_and_objective():\n    global nodeToIDMap\n    global IDtoNodeMap\n    global nodeSetVarMap\n    global nodeUnsetVarMap\n    global maxInstances\n    \n    nodeToIDMap = dict()\n    IDtoNodeMap = dict()\n    nodeSetVarMap = dict()\n    nodeUnsetVarMap = dict()\n    \n    nodeIndex = 0\n    edgeIndex = 0\n    \n    for node in graph.nodes():\n        nodeToIDMap[node] = nodeIndex\n        IDtoNodeMap[nodeIndex] = node\n        setVar = model.addVar(vtype=GRB.BINARY, name=\"s{}\".format(nodeIndex))\n        nodeSetVarMap[node] = setVar\n        unsetVar = model.addVar(vtype=GRB.BINARY, name=\"u{}\".format(nodeIndex))\n        nodeUnsetVarMap[node] = unsetVar\n        \n        model.addConstr(setVar + unsetVar == 1, \"i{}\".format(nodeIndex))\n        nodeIndex += 1\n    \n    plusVars = list()\n    minusVars = list()\n    for node in graph.nodes():\n        for successor in graph.successors(node):\n            plusVar = model.addVar(vtype = GRB.BINARY, name=\"p{}\".format(edgeIndex))\n            minusVar = model.addVar(vtype = GRB.BINARY, name=\"m{}\".format(edgeIndex))\n            model.addConstr(plusVar == and_(nodeSetVarMap[node], nodeSetVarMap[successor]), \"a{}\".format(edgeIndex))\n            model.addConstr(minusVar == and_(nodeSetVarMap[node], nodeUnsetVarMap[successor]), \"an{}\".format(edgeIndex))\n            plusVars.append(plusVar)\n            minusVars.append(minusVar)\n            edgeIndex += 1\n        \n    setVars = list(nodeSetVarMap.values())\n    maxInstances = int(len(setVars)*maxCoverage)\n    model.addConstr(quicksum(setVars) <= maxInstances, \"c\")\n    model.setObjective(quicksum(plusVars) - quicksum(minusVars), GRB.MAXIMIZE)\n        \ndef optimize_model():\n    global selectedInstances\n    global protectedEdges\n    global neededReductionVoters\n    model.optimize()\n\n    #for c in model.getConstrs():\n    #   print(c)\n    #for v in model.getVars():\n    #   print('%s %g' % (v.varName, v.x))\n    selectedInstances = len([x for x in model.getVars() if x.varName.startswith(\"s\") and x.x == 1])\n    protectedEdges = len([x for x in model.getVars() if x.varName.startswith(\"p\") and x.x == 1])\n    neededReductionVoters = len([x for x in model.getVars() if x.varName.startswith(\"m\") and x.x == 1])\n    print('Obj: %g' % model.objVal)\n    print(\"Max Coverage:\", maxCoverage)\n    print(\"Max Instances:\", maxInstances)\n    print(\"Selected Instances:\", selectedInstances)\n    print(\"Protected Nets:\", protectedEdges)\n    print(\"Necessary Reduction Voters:\", neededReductionVoters)\n    \ndef export_dot(filename, graph):\n    create_filename_directory_if_not_present(filename)\n    \n    index = 0\n    mapping = dict()\n    with open(filename, 'w') as fi:\n        fi.write(\"digraph {\\n\")\n        for node in graph.nodes:\n            color = \"\"\n            shape = \"\"\n            mapping[node] = index;\n            label = node.item['EDIF.identifier']\n            if model.getVarByName(\"s{}\".format(nodeToIDMap[node])).x == 1:\n                color = \",color=blue\"\n            if isinstance(node.item, sdn.Port):\n                shape = \"rarrow\"\n            elif isinstance(node.item, sdn.Instance):\n                if node.item.reference['EDIF.identifier'].startswith(\"FD\") == True:\n                    shape = \",shape=box\"\n            fi.write('  {}[label=\"{}\"{}{}];\\n'.format(index,label,color,shape))\n            index = index + 1\n        for node in graph.nodes:\n            for successor in graph.successors(node):\n                fi.write('  {} -> {};\\n'.format(mapping[node], mapping[successor]))\n        fi.write('}\\n');\n\ndef create_filename_directory_if_not_present(filename):\n    directory = os.path.dirname(filename)\n    if os.path.exists(directory) is False:\n        os.makedirs(directory)\n\nrun()"
      ]
    }
  ],
  "metadata": {
    "kernelspec": {
      "display_name": "Python 3",
      "language": "python",
      "name": "python3"
    },
    "language_info": {
      "codemirror_mode": {
        "name": "ipython",
        "version": 3
      },
      "file_extension": ".py",
      "mimetype": "text/x-python",
      "name": "python",
      "nbconvert_exporter": "python",
      "pygments_lexer": "ipython3",
      "version": "3.9.16"
    }
  },
  "nbformat": 4,
  "nbformat_minor": 0
}